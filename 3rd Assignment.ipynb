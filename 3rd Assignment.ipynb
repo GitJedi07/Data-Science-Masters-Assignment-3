{
 "cells": [
  {
   "cell_type": "markdown",
   "id": "f6badb02-b2f6-4f4a-9625-272c7bb9baa1",
   "metadata": {},
   "source": [
    "# 3rd Feb Assignment"
   ]
  },
  {
   "cell_type": "markdown",
   "id": "2220bfb8-3eeb-4733-bae6-a8923db3b8c1",
   "metadata": {},
   "source": [
    "# 1 Solution:"
   ]
  },
  {
   "cell_type": "markdown",
   "id": "6f6e2701-ff5e-4bf7-9a58-13c1ee8fe7b4",
   "metadata": {},
   "source": [
    "#### The keyword used to define a function is \"def\"."
   ]
  },
  {
   "cell_type": "code",
   "execution_count": 1,
   "id": "783e444c-9538-471c-b1a0-3a8d01e94ac3",
   "metadata": {},
   "outputs": [],
   "source": [
    "# function to print a list of odd numbers in the range of 1 to 25\n",
    "def odd_num():\n",
    "    l = []\n",
    "    for i in range(1,26):\n",
    "        if i % 2 != 0:\n",
    "            l.append(i)\n",
    "    return(l)"
   ]
  },
  {
   "cell_type": "code",
   "execution_count": 2,
   "id": "a11166b8-5b10-4a3d-8284-197371aee964",
   "metadata": {},
   "outputs": [
    {
     "data": {
      "text/plain": [
       "[1, 3, 5, 7, 9, 11, 13, 15, 17, 19, 21, 23, 25]"
      ]
     },
     "execution_count": 2,
     "metadata": {},
     "output_type": "execute_result"
    }
   ],
   "source": [
    "odd_num()"
   ]
  },
  {
   "cell_type": "markdown",
   "id": "3705567d-7e2d-4e24-8269-8ab10565c75f",
   "metadata": {},
   "source": [
    "# 2 solution:"
   ]
  },
  {
   "cell_type": "markdown",
   "id": "8998f55c-4f92-474c-935d-55e17e81a022",
   "metadata": {},
   "source": [
    "#### \"*args\" is used to input n number of arguements in a function whereas \"**kwargs\" is used to input n number of key-value pairs in a function."
   ]
  },
  {
   "cell_type": "code",
   "execution_count": 3,
   "id": "ff89a557-18bd-4068-9316-4f68ae591d14",
   "metadata": {},
   "outputs": [],
   "source": [
    "#Example of *args-type function:\n",
    "def args_func(*args):\n",
    "    return args"
   ]
  },
  {
   "cell_type": "code",
   "execution_count": 4,
   "id": "d60adc68-2dda-4f47-b946-9b38601b5b8a",
   "metadata": {},
   "outputs": [
    {
     "data": {
      "text/plain": [
       "(1, 2, 3.5, 'name', [10, 20, 30], (2, 4, 6))"
      ]
     },
     "execution_count": 4,
     "metadata": {},
     "output_type": "execute_result"
    }
   ],
   "source": [
    "args_func(1,2,3.5,\"name\",[10,20,30],(2,4,6))"
   ]
  },
  {
   "cell_type": "code",
   "execution_count": 5,
   "id": "51d8dc39-2646-40e1-b878-c56e64daef5d",
   "metadata": {},
   "outputs": [],
   "source": [
    "# Example of **kwargs-type function:\n",
    "def kwargs_func(**kwargs):\n",
    "    return kwargs"
   ]
  },
  {
   "cell_type": "code",
   "execution_count": 6,
   "id": "82f5b1c3-15ab-4a7c-8a63-e3340dcbed76",
   "metadata": {},
   "outputs": [
    {
     "data": {
      "text/plain": [
       "{'a': 1,\n",
       " 'b': 2,\n",
       " 'c': 4.5,\n",
       " 'd': 'vivek',\n",
       " 'e': [9, 8, 7.5, 'value'],\n",
       " 'f': (5, 4, 30.42, 'name')}"
      ]
     },
     "execution_count": 6,
     "metadata": {},
     "output_type": "execute_result"
    }
   ],
   "source": [
    "kwargs_func(a=1, b=2, c=4.5, d=\"vivek\", e=[9,8,7.5,\"value\"], f=(5,4,30.42,\"name\"))"
   ]
  },
  {
   "cell_type": "markdown",
   "id": "99bd24c1-7319-4129-bad1-a127776c92e0",
   "metadata": {},
   "source": [
    "# 3 solution:"
   ]
  },
  {
   "cell_type": "markdown",
   "id": "51085d4c-16a2-4e81-9af8-ced1c3bf54ba",
   "metadata": {},
   "source": [
    "#### An iterator is an object in Python that allows you to traverse a container, such as a list, tuple, or dictionary, one element at a time. It is used to implement a loop, which is an essential part of programming.\n",
    "\n",
    "#### In Python, the iter() method is used to initialize an iterator object. This method takes a container object as its argument and returns an iterator object that points to the first element of the container.\n",
    "\n",
    "#### The next() method is used for iteration over the elements of an iterator object. This method returns the next element of the container and moves the iterator pointer to the next element. If there are no more elements in the container, it raises the StopIteration exception."
   ]
  },
  {
   "cell_type": "code",
   "execution_count": 7,
   "id": "e8356bb3-a55a-48b0-abb9-1437b4d24469",
   "metadata": {},
   "outputs": [
    {
     "name": "stdout",
     "output_type": "stream",
     "text": [
      "2\n",
      "4\n",
      "6\n",
      "8\n",
      "10\n"
     ]
    }
   ],
   "source": [
    "# Using iter() and next() method to print the first five elements of a given list:\n",
    "my_list = [2, 4, 6, 8, 10, 12, 14, 16, 18, 20]\n",
    "\n",
    "# create an iterator object\n",
    "my_iterator = iter(my_list)\n",
    "\n",
    "# print the first five elements of the list\n",
    "for i in range(5):\n",
    "    # get the next element of the list\n",
    "    element = next(my_iterator)\n",
    "    print(element)"
   ]
  },
  {
   "cell_type": "markdown",
   "id": "95a7745d-5bfd-46c3-a658-d131edaa6b6b",
   "metadata": {},
   "source": [
    "# 4 solution:"
   ]
  },
  {
   "cell_type": "markdown",
   "id": "8854cbb1-f060-4b26-bada-4e835abad818",
   "metadata": {},
   "source": [
    "#### In Python, a generator function is a special type of function that allows you to define an iterator more easily. Instead of creating a class and implementing the __iter__() and __next__() methods, you can use the yield keyword to create a generator function that returns a generator object.\n",
    "\n",
    "#### When a generator function is called, it returns a generator object without actually running the function body. When the generator object is iterated over, the function body is executed until it encounters a yield statement.\n",
    "\n",
    "#### The yield keyword allows the function to return a value and pause its execution until the next value is requested. When the generator object is iterated over again, the function resumes its execution after the yield statement and continues until it encounters another yield statement or reaches the end of the function body."
   ]
  },
  {
   "cell_type": "code",
   "execution_count": 8,
   "id": "7948a806-3781-4268-97ad-b20f6d441aef",
   "metadata": {},
   "outputs": [],
   "source": [
    "# Example of a generator function:\n",
    "\n",
    "def test_fib(n): # to create make a fibonacci series:\n",
    "    a,b = 0,1\n",
    "    for i in range(n):\n",
    "        yield a\n",
    "        a,b = b,a+b"
   ]
  },
  {
   "cell_type": "code",
   "execution_count": 9,
   "id": "b2a06b3b-8e7c-4933-b0d1-dc8b9cb3f347",
   "metadata": {},
   "outputs": [
    {
     "data": {
      "text/plain": [
       "<generator object test_fib at 0x7f9700d2d9a0>"
      ]
     },
     "execution_count": 9,
     "metadata": {},
     "output_type": "execute_result"
    }
   ],
   "source": [
    "test_fib(10)"
   ]
  },
  {
   "cell_type": "code",
   "execution_count": 10,
   "id": "9293e3cd-94f8-4974-8229-357bea1d09dc",
   "metadata": {},
   "outputs": [
    {
     "name": "stdout",
     "output_type": "stream",
     "text": [
      "0\n",
      "1\n",
      "1\n",
      "2\n",
      "3\n",
      "5\n",
      "8\n",
      "13\n",
      "21\n",
      "34\n"
     ]
    }
   ],
   "source": [
    "for i in test_fib(10):\n",
    "    print(i)"
   ]
  },
  {
   "cell_type": "markdown",
   "id": "60b402b6-866b-47cc-8c87-8c6fb001fc57",
   "metadata": {},
   "source": [
    "# 5 solution:"
   ]
  },
  {
   "cell_type": "code",
   "execution_count": 11,
   "id": "22674777-c392-44c4-b1f1-9466d4e13135",
   "metadata": {},
   "outputs": [],
   "source": [
    "# Create a generator function for prime numbers less than 1000. Use the next() method to print the first 20 prime numbers:\n",
    "\n",
    "def generate_primes():\n",
    "    primes = []\n",
    "    for num in range(2, 1000):\n",
    "        is_prime = True\n",
    "        for prime in primes:\n",
    "            if num % prime == 0:\n",
    "                is_prime = False\n",
    "                break\n",
    "        if is_prime:\n",
    "            primes.append(num)\n",
    "            yield num"
   ]
  },
  {
   "cell_type": "code",
   "execution_count": 12,
   "id": "3eee64c2-5f4c-4d66-b53e-f11b8117a0f6",
   "metadata": {},
   "outputs": [
    {
     "name": "stdout",
     "output_type": "stream",
     "text": [
      "2\n",
      "3\n",
      "5\n",
      "7\n",
      "11\n",
      "13\n",
      "17\n",
      "19\n",
      "23\n",
      "29\n",
      "31\n",
      "37\n",
      "41\n",
      "43\n",
      "47\n",
      "53\n",
      "59\n",
      "61\n",
      "67\n",
      "71\n"
     ]
    }
   ],
   "source": [
    "primes = generate_primes()\n",
    "for i in range(20):\n",
    "    print(next(primes))"
   ]
  },
  {
   "cell_type": "code",
   "execution_count": null,
   "id": "5c4c5d30-fd61-4fc0-9f1d-e7ec1a23b4f5",
   "metadata": {},
   "outputs": [],
   "source": []
  }
 ],
 "metadata": {
  "kernelspec": {
   "display_name": "Python 3 (ipykernel)",
   "language": "python",
   "name": "python3"
  },
  "language_info": {
   "codemirror_mode": {
    "name": "ipython",
    "version": 3
   },
   "file_extension": ".py",
   "mimetype": "text/x-python",
   "name": "python",
   "nbconvert_exporter": "python",
   "pygments_lexer": "ipython3",
   "version": "3.10.8"
  }
 },
 "nbformat": 4,
 "nbformat_minor": 5
}
